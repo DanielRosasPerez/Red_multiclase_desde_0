{
 "cells": [
  {
   "cell_type": "markdown",
   "metadata": {
    "colab": {},
    "colab_type": "code",
    "id": "xEEaMq4gKfjt"
   },
   "source": [
    "***"
   ]
  },
  {
   "cell_type": "markdown",
   "metadata": {},
   "source": [
    "### **Importante** \n",
    "\n",
    "\n",
    "- **Realice varios comentarios haciendo uso de una etiqueta html para darle color al comentario. Sin embargo, al subir mis notebooks a GITHUB las secciones donde realice los comentarios a color aparecen en blanco.**  \n",
    "\n",
    "- **El \"Enable Scrolling for Outputs\" no se respeta al subir este contenido a GITHUB, por lo tanto, la impresión de los datos puede ser larga.**  \n",
    "\n",
    "**Lo anterior no afecta en absoluto el contenido principal y el funcionamiento del documento, por lo que, si lo deseas, lo puedes ejecutar sin ningún problema en tu ordenador.**"
   ]
  },
  {
   "cell_type": "markdown",
   "metadata": {},
   "source": [
    "***"
   ]
  },
  {
   "cell_type": "code",
   "execution_count": 1,
   "metadata": {},
   "outputs": [],
   "source": [
    "import numpy as np\n",
    "import matplotlib.pyplot as plt\n",
    "%matplotlib inline"
   ]
  },
  {
   "cell_type": "code",
   "execution_count": 2,
   "metadata": {
    "colab": {},
    "colab_type": "code",
    "id": "mFmdVw2UKfkR"
   },
   "outputs": [],
   "source": [
    "# Creamos la función de activación RELU para las capas ocultas:\n",
    "def relu(arreglo_sp):\n",
    "    \"\"\"Esta función aplica la activación RELU a nuestra suma ponderada.\"\"\"\n",
    "    arreglo_activaciones = np.zeros(shape=(arreglo_sp.shape))\n",
    "\n",
    "    for fila in range(len(arreglo_sp)):\n",
    "        for sp in range(arreglo_sp.shape[1]):\n",
    "            arreglo_activaciones[fila,sp] = max(arreglo_sp[fila,sp],0)\n",
    "  \n",
    "    return arreglo_activaciones"
   ]
  },
  {
   "cell_type": "code",
   "execution_count": 3,
   "metadata": {
    "colab": {},
    "colab_type": "code",
    "id": "1MVBQWKlKfkj"
   },
   "outputs": [],
   "source": [
    "# Softmax para la capa de salida:\n",
    "def softmax(neuronas_de_salida):\n",
    "    \"\"\"Esta función aplica la (vaya la redundacia), función de activación Softmax a la capa de salida.\"\"\"\n",
    "    \n",
    "    activaciones = np.zeros(shape=neuronas_de_salida.shape)\n",
    "    \n",
    "    for i,fila_neuronas in enumerate(neuronas_de_salida):\n",
    "        activaciones[i,:] = np.exp(fila_neuronas) / sum([np.exp(neurona_de_salida) \n",
    "                                                         for neurona_de_salida in fila_neuronas])\n",
    "        \n",
    "    return activaciones"
   ]
  },
  {
   "cell_type": "code",
   "execution_count": 4,
   "metadata": {
    "colab": {},
    "colab_type": "code",
    "id": "Xdz9EsfnKfk7"
   },
   "outputs": [],
   "source": [
    "# Creamos una función para dar formato a las salidas:\n",
    "def one_hot_encode(salidas,numero_de_clases):\n",
    "    \"\"\"Esta función le da formato one-hot encode a nuestras salidas. \n",
    "    Este es el formato de salidas usado por Softmax.\"\"\"\n",
    "    \n",
    "    salidas_ = np.array(salidas)\n",
    "    \n",
    "    vector_salidas = np.zeros(shape=(salidas_.shape[0],numero_de_clases))\n",
    "    \n",
    "    for fila,salida in enumerate(salidas_):\n",
    "        vector_salidas[fila,salida] += 1\n",
    "        \n",
    "    return vector_salidas"
   ]
  },
  {
   "cell_type": "code",
   "execution_count": 5,
   "metadata": {
    "colab": {},
    "colab_type": "code",
    "id": "suXpvCEkKflN"
   },
   "outputs": [],
   "source": [
    "# Creamos una función para la realización de la suma ponderada y aplica la función de activación RELU:\n",
    "def _suma_ponderada_(entradas,pesos,bias,i,cantidad_capas): # Entradas o Activaciones, dependiendo en que capa estemos.\n",
    "    \"\"\"Esta función realiza la suma ponderada de nuestros datos.\"\"\"\n",
    "\n",
    "    assert entradas.shape[1] == pesos.shape[0], \"La cantidad de columnas de las entradas respecto del tamaño de las \\\n",
    "    cantidad de filas de los pesos, deben coincidir para llevara a cabo su producto matricial!\"\n",
    "    assert len(bias.shape) == 2 and bias.shape[0] == 1, \"El formato de los bias debe ser en vector fila. Por lo tanto, debe \\\n",
    "    de tener 2 dimensiones!\"\n",
    "    assert pesos.shape[1] == bias.shape[1], \"La cantidad de columnas que poseen los pesos debe ser igual a la cantidad \\\n",
    "    de columnas que posee el vector bias!\"\n",
    "    \n",
    "    entradas_ = np.hstack((entradas,np.ones(shape=(len(entradas),1)))) # Agregamos el peso de cada Bias a las entradas.\n",
    "    parametros_ = np.vstack((pesos,bias))\n",
    "    \n",
    "    # Suma ponderada, Entradas/Activación + parámetros:\n",
    "    if i+1 == cantidad_capas: # Capa de Salida.\n",
    "        return softmax(entradas_@parametros_)\n",
    "    else: # Capas Ocultas.\n",
    "        return relu(entradas_@parametros_)"
   ]
  },
  {
   "cell_type": "code",
   "execution_count": 6,
   "metadata": {
    "colab": {},
    "colab_type": "code",
    "id": "zBJQOUSOKflh"
   },
   "outputs": [],
   "source": [
    "#cantidad_capas = 2\n",
    "\n",
    "# Creamos una función que realice la propagación hacia adelante (feedforwad):\n",
    "def feedforward(salidas,entradas,pesos,bias,cantidad_capas):\n",
    "    \"\"\"Esta función realiza la propagación hacia adelante.\"\"\"\n",
    "    \n",
    "    assert len(entradas.shape) == 2, \"La matriz de entradas debe tener 2 dimensiones!\"\n",
    "    assert len(salidas.shape) == 2 and salidas.shape[1] >= 2, \"Verifica que las salidas ya se encuentren \\\n",
    "    en el formato 'one-hot encode'!\"\n",
    "    \n",
    "    \n",
    "    activaciones = list()\n",
    "    activaciones.append(entradas)\n",
    "    for i in range(cantidad_capas): # Cada iteración representa una capa.\n",
    "        entradas =  _suma_ponderada_(entradas,pesos[i],bias[i],i,cantidad_capas)\n",
    "        activaciones.append(entradas)\n",
    "        \n",
    "    return activaciones"
   ]
  },
  {
   "cell_type": "code",
   "execution_count": 7,
   "metadata": {
    "colab": {},
    "colab_type": "code",
    "id": "pPOQUdkhKfl4"
   },
   "outputs": [],
   "source": [
    "# Función de Error:\n",
    "def entropia_cruzada(predicciones,salidas): # predicciones = activaciones[-1]\n",
    "    \"\"\"Esta función calcula el error de predicción de nuestra red neuronal.\"\"\"\n",
    "    \n",
    "    prediccion = np.sum(predicciones*salidas,axis=1).reshape(-1,1) # Damos formato a vector columna.\n",
    "    \n",
    "    # Error = -ln(predicción)/total_datos:\n",
    "    E = sum((-1)*(np.log(prediccion)))/len(salidas) # Promediamos el error.\n",
    "    \n",
    "    return E"
   ]
  },
  {
   "cell_type": "code",
   "execution_count": 8,
   "metadata": {
    "colab": {},
    "colab_type": "code",
    "id": "HQGv29uvadBA"
   },
   "outputs": [],
   "source": [
    "#tamaño_lote = 2\n",
    "\n",
    "# Backpropagation:\n",
    "def backpropagation(activaciones,salidas,pesos,bias,tamaño_lote):\n",
    "    \"\"\"Esta función calcula los gradientes para las actualizaciones de los parámetros\"\"\"\n",
    "\n",
    "    # Primero debemos calcular las deltas de las neuronas de las capas ocultas y la de la capa de salida:\n",
    "    deltas_de_salida = activaciones[-1] - salidas # Activación Softmax en la capa de salida.\n",
    "\n",
    "    deltas_totales = list()\n",
    "    deltas_totales.append(deltas_de_salida)\n",
    "    for pesos_x_capa,activacion_x_capa in zip(pesos[:0:-1],activaciones[-2:0:-1]):\n",
    "        deltas_x_capa = list()\n",
    "        for i,entrada_activacion in enumerate(activacion_x_capa):\n",
    "            vector_deltas = list()\n",
    "            for pesos_fila,activacion in zip(pesos_x_capa,entrada_activacion):\n",
    "                if activacion > 0:\n",
    "                    vector_deltas.append(pesos_fila@deltas_de_salida[i])\n",
    "                else:\n",
    "                    vector_deltas.append(0)\n",
    "            deltas_x_capa.append(vector_deltas)\n",
    "        deltas_x_capa = np.asarray(deltas_x_capa).reshape(activacion_x_capa.shape)\n",
    "        deltas_totales.append(np.asarray(deltas_x_capa))\n",
    "    deltas_totales.reverse()\n",
    "\n",
    "    # Como segundo paso, procedemos a calcular el gradiente promedio por cada peso:\n",
    "    gradientes_promedio = list() # Gradientes promedio para los pesos.\n",
    "\n",
    "    for activacion_arreglo,deltas in zip(activaciones[-2::-1],deltas_totales[::-1]):\n",
    "        error_delta = 0\n",
    "        gradientes_x_capa = list()\n",
    "        while (error_delta < deltas.shape[1]): # error_delta < columnas.\n",
    "            selector = 0\n",
    "            gradientes = list()\n",
    "            while (selector < activacion_arreglo.shape[1]): # selector < columnas.\n",
    "                gradientes.append((activacion_arreglo[:,selector]@deltas[:,error_delta])/tamaño_lote)\n",
    "                selector += 1\n",
    "            error_delta += 1\n",
    "            gradientes_x_capa.append(gradientes)\n",
    "        gradientes_x_capa = np.asarray(gradientes_x_capa).reshape(deltas.shape[1],-1).T\n",
    "        gradientes_promedio.append(gradientes_x_capa)\n",
    "    gradientes_promedio.reverse()\n",
    "\n",
    "    # Finalimente, calculamos los gradientes, para los bias:\n",
    "    gradientes_bias = list() # Gradientes promedio para los bias.\n",
    "\n",
    "    for deltas in deltas_totales[::-1]:\n",
    "        errores_delta = 0\n",
    "        gradientes_bias_x_capa = list()\n",
    "        while errores_delta < deltas.shape[1]:\n",
    "            gradientes_bias_x_capa.append(sum(deltas[:,errores_delta])/tamaño_lote)\n",
    "            errores_delta += 1\n",
    "        gradientes_bias.append(np.asarray(gradientes_bias_x_capa))\n",
    "    gradientes_bias.reverse()\n",
    "\n",
    "    return gradientes_promedio,gradientes_bias"
   ]
  },
  {
   "cell_type": "code",
   "execution_count": 9,
   "metadata": {
    "colab": {},
    "colab_type": "code",
    "id": "wIIJ9UenUJOt"
   },
   "outputs": [],
   "source": [
    "# Actualización de los parámetros:\n",
    "def actualizacion_parametros(gradientes_pesos,gradientes_bias,pesos,bias,TA): # TA = Tasa de Aprendizaje.\n",
    "    \"\"\"Esta función actualiza nuestros parámetros.\"\"\"\n",
    "    \n",
    "    pesos = [pesos_x_capa - TA*gradientes_x_capa for gradientes_x_capa,pesos_x_capa in zip(gradientes_pesos,pesos)]\n",
    "\n",
    "    bias = [bias_x_capa - TA*gradientes_x_capa for gradientes_x_capa,bias_x_capa in zip(gradientes_bias,bias)]\n",
    "\n",
    "    return pesos,bias"
   ]
  },
  {
   "cell_type": "code",
   "execution_count": 10,
   "metadata": {},
   "outputs": [],
   "source": [
    "# Creamos una función para la realización de predicciones:\n",
    "def predicciones(salidas,entradas,pesos,bias):\n",
    "    \"\"\"Esta función se encarga de realizar las predicciones deseadas.\"\"\"\n",
    "    \n",
    "    for i in range(len(pesos)): # Cada iteración representa una capa.\n",
    "        entradas =  _suma_ponderada_(entradas,pesos[i],bias[i],i,len(bias))\n",
    "    \n",
    "    arreglo_predicciones = np.zeros(shape=(len(entradas)))\n",
    "    for i,probabilidad in enumerate(entradas):\n",
    "        arreglo_predicciones[i] = [int(numero) for numero,prediccion in enumerate(probabilidad) \n",
    "                                   if prediccion == np.max(probabilidad)][0]\n",
    "        \n",
    "    return arreglo_predicciones"
   ]
  },
  {
   "cell_type": "code",
   "execution_count": 79,
   "metadata": {
    "colab": {},
    "colab_type": "code",
    "id": "nhvjgrnzZLjb"
   },
   "outputs": [],
   "source": [
    "from timeit import default_timer\n",
    "# Creamos una función para entrenar nuestro modelo:\n",
    "def algoritmo_de_entrenamiento(entradas,salidas,tamaño_lote):\n",
    "    \"\"\"Esta función ejecuta el algoritmo de entrenamiento.\"\"\"\n",
    "\n",
    "    cantidad_lotes = str(len(entradas)/tamaño_lote).split('.')[-1]\n",
    "    assert cantidad_lotes == '0', \"El tamaño del lote debe ser divisor del total de la cantidad Datos!\".upper()\n",
    "    assert len(entradas.shape) == 2 and len(salidas.shape) == 2, \"Los datos deben de tener al menos 2 dimensiones!\"\n",
    "\n",
    "    cantidad_capas = int(input(\"Hola, cuántas capas ocultas deseas? \"))\n",
    "    print(\"\\nRecuerda que la ÚLTIMA CAPA OCULTA vendría siendo para nuestro caso la CAPA DE SALIDA\")\n",
    "    neuronas_x_capa = [int(input(f\"Cuántas neuronas deseas para la capa oculta {capa+1}?: \"))\n",
    "                           for capa in range(cantidad_capas)]\n",
    "\n",
    "    # Pedimos al usuario que ingrese la tasa de aprendizaje:\n",
    "    texto = \"Ingresa la tasa de aprendizaje. Rango válido: 0 < TA <= 1\\n\"\n",
    "    TA = float(input(texto))\n",
    "\n",
    "    # Creamos de manera aleatoria los parámetros (Pesos y Bias) entre 0 y 1:\n",
    "    neuronas_x_capa.insert(0,entradas.shape[1])\n",
    "    n_x_c = neuronas_x_capa.copy()\n",
    "    pesos = [np.asarray([np.random.normal(0.0,0.5) for _ in range(n_x_c[i-1]*n_x_c[i])])*np.sqrt(2/(n_x_c[i-1]))\n",
    "                 for i in range(1,len(n_x_c))]\n",
    "    bias = [np.asarray([[0 for _ in range(n_x_c[i+1])]]) for i in range(len(n_x_c)-1)]\n",
    "\n",
    "    # Ajustamos cada número de parámetros con su respectiva capa oculta y/o de salida:\n",
    "    pesos = [pesos[i].reshape(n_x_c[i],n_x_c[i+1]) for i in range(len(pesos))]\n",
    "\n",
    "    # Nos deshacemos del comodín usado en las neuronas por capa:\n",
    "    del neuronas_x_capa[0]\n",
    "\n",
    "    epocas = int(input(\"Cuántas épocas de entrenamiento deseas? \"))\n",
    "    error_minimo = float(input(\"Cuál es el error mínimo que deseas que logre el modelo? \"))\n",
    "    \n",
    "    validar_datos = input(\"Deseas validar tu modelo en cada época? s/n\")\n",
    "    if validar_datos.lower() == 's':\n",
    "        # Creamos una lista para almacenar el error de nuestro modelo en los datos de validación:\n",
    "        Error_Validacion = list()\n",
    "        # Creamos una lista para almacenar la precisión de nuestro modelo en los datos de validación:\n",
    "        Precision_Validacion = list()\n",
    "        # Generando datos de validación:\n",
    "        datos_validacion = entradas[:10000]\n",
    "        etiquetas_validacion = salidas[:10000]\n",
    "        # Reorganizando los datos de entrada para evitar incluir los datos de validación:\n",
    "        entradas = entradas[10000:]\n",
    "        salidas = salidas[10000:]\n",
    "        # Ahora, recargamos las etiquetas de los datos de salida en su formato original para medir la PRECISIÓN\n",
    "        # de nuestro modelo en los datos de entrenamiento (no en los de validación):\n",
    "        (_,Etiquetas_FO),(_,_) = mnist.load_data() # etiquetas_FO = Etiquetas en el Formato Original.\n",
    "        etiquetas_VFO = Etiquetas_FO[:10000] # Etiquetas Validación en Formato Original.\n",
    "        etiquetas_SFO = Etiquetas_FO[10000:] # Etiquetas Salida en Formato Orginal.\n",
    "    else:\n",
    "        (_,etiquetas_salida),(_,_) = mnist.load_data() # Etiquetas de salida en su formato original.\n",
    "        \n",
    "    Precision = []\n",
    "    Error_x_Epoca = []\n",
    "\n",
    "    lotes = len(entradas)//tamaño_lote\n",
    "    print(\"\\nCantidad de Lotes: {}\\n\".format(lotes))\n",
    "\n",
    "    Tiempo_inicio = default_timer()\n",
    "\n",
    "    for epoca in range(1,epocas+1):\n",
    "        error_x_lote = 0\n",
    "        i = 0\n",
    "\n",
    "        for lote in range(lotes):\n",
    "            activaciones = feedforward(salidas[i:i+tamaño_lote],entradas[i:i+tamaño_lote],pesos,bias,cantidad_capas)\n",
    "            error_x_lote += entropia_cruzada(activaciones[-1],salidas[i:i+tamaño_lote])\n",
    "            GP,GB = backpropagation(activaciones,salidas[i:i+tamaño_lote],pesos,bias,tamaño_lote)\n",
    "            pesos,bias = actualizacion_parametros(GP,GB,pesos,bias,TA)\n",
    "            i += tamaño_lote\n",
    "            \n",
    "        if validar_datos:\n",
    "            prediccion_validacion = feedforward(etiquetas_validacion,datos_validacion,pesos,bias,cantidad_capas)\n",
    "            error_validacion = entropia_cruzada(prediccion_validacion[-1],etiquetas_validacion)\n",
    "            Error_Validacion.append(error_validacion) # Almacenamos los errores de validación.\n",
    "            # Verificamos la precisión de nuestro modelo por época en los DATOS DE VALIDACIÓN:\n",
    "            PV = predicciones(etiquetas_validacion,datos_validacion,pesos,bias)\n",
    "            aciertos = (PV == etiquetas_VFO).sum() # Verificamos cantidad de aciertos.\n",
    "            precision = (aciertos/len(datos_validacion))*100 # Calculamos la precisión de nuestra red.\n",
    "            Precision_Validacion.append(precision)\n",
    "        \n",
    "        # Verificamos la PRECISIÓN de nuestro modelo por época en EL TOTAL DE LOS DATOS:\n",
    "        prediccion_DE = predicciones(salidas,entradas,pesos,bias)\n",
    "        if validar_datos:\n",
    "            aciertos_DE = (prediccion_DE == etiquetas_SFO).sum() # Verificamos cantidad de aciertos.\n",
    "        else:\n",
    "            aciertos_DE = (prediccion_DE == etiquetas_salida).sum() # Verificamos cantidad de aciertos.\n",
    "        precision_DE = (aciertos_DE/len(prediccion_DE))*100 # Calculamos la precisión de nuestra red.\n",
    "        Precision.append(precision_DE)\n",
    "        \n",
    "        # Error Promedio del Total de los Datos por Época:\n",
    "        error_promedio = error_x_lote/lotes\n",
    "        Error_x_Epoca.append(error_promedio)\n",
    "        \n",
    "        if validar_datos:\n",
    "            print(f\"Error Promedio en Datos Entrenamiento: {error_promedio} | Error Validación: {error_validacion}\")\n",
    "            print(f\"Precisión en Datos Entrenamiento: {precision_DE}% | Precisión en Validación: {precision}%\")\n",
    "            print('\\r')\n",
    "        else:\n",
    "            print(f\"Error Promedio en Datos Entrenamiento: {error_promedio} | Precisión en Datos Entrenamiento: {precision_DE}%\")\n",
    "            print('\\r')\n",
    "            \n",
    "        if error_promedio <= error_minimo:\n",
    "            Tiempo_final = default_timer()\n",
    "            print(f\"Error mínimizado en la Época: {epoca}\")\n",
    "            break\n",
    "\n",
    "    Tiempo_final = default_timer()\n",
    "    Tiempo_total = np.round(Tiempo_final - Tiempo_inicio,decimals=4)\n",
    "    print(\"Tiempo Total: %s minutos\"%(Tiempo_total/60))\n",
    "\n",
    "    print(f\"Época: {epoca}\")\n",
    "\n",
    "    return pesos,bias,Error_x_Epoca,Precision,Error_Validacion,Precision_Validacion"
   ]
  },
  {
   "cell_type": "code",
   "execution_count": 12,
   "metadata": {
    "colab": {
     "base_uri": "https://localhost:8080/",
     "height": 67
    },
    "colab_type": "code",
    "id": "8yyaIOrej6rw",
    "outputId": "3c926f18-bc47-4abb-d39e-6d16b7a84457"
   },
   "outputs": [
    {
     "name": "stderr",
     "output_type": "stream",
     "text": [
      "Using TensorFlow backend.\n"
     ]
    }
   ],
   "source": [
    "from keras.datasets import mnist\n",
    "\n",
    "(datos_entrenamiento,etiquetas_entrenamiento), (datos_testeo,etiquetas_testeo) = mnist.load_data()"
   ]
  },
  {
   "cell_type": "code",
   "execution_count": 13,
   "metadata": {
    "colab": {
     "base_uri": "https://localhost:8080/",
     "height": 101
    },
    "colab_type": "code",
    "id": "jNWaTpW5j6mA",
    "outputId": "940e67a6-4fb0-47f5-9bf9-2280a33a960c"
   },
   "outputs": [
    {
     "name": "stdout",
     "output_type": "stream",
     "text": [
      "(60000, 28, 28)\n",
      "(60000,)\n",
      "\n",
      "(10000, 28, 28)\n",
      "(10000,)\n"
     ]
    }
   ],
   "source": [
    "print(datos_entrenamiento.shape)\n",
    "print(etiquetas_entrenamiento.shape)\n",
    "print('\\r')\n",
    "print(datos_testeo.shape)\n",
    "print(etiquetas_testeo.shape)"
   ]
  },
  {
   "cell_type": "code",
   "execution_count": 14,
   "metadata": {
    "colab": {},
    "colab_type": "code",
    "id": "gNP1TezNZLey"
   },
   "outputs": [],
   "source": [
    "# Normalizamos el valor de nuestros datos de entrenamiento y testeo:\n",
    "datos_entrenamiento = (datos_entrenamiento/np.max(datos_entrenamiento)).astype('float64')\n",
    "datos_testeo = (datos_testeo/np.max(datos_testeo)).astype('float64')"
   ]
  },
  {
   "cell_type": "code",
   "execution_count": 15,
   "metadata": {
    "colab": {
     "base_uri": "https://localhost:8080/",
     "height": 50
    },
    "colab_type": "code",
    "id": "hoq-ROWakrME",
    "outputId": "73754a58-5651-443f-9761-20f0f6c3f5f3"
   },
   "outputs": [
    {
     "name": "stdout",
     "output_type": "stream",
     "text": [
      "(60000, 10)\n",
      "(10000, 10)\n"
     ]
    }
   ],
   "source": [
    "# Damos formato a nuestras etiquetas:\n",
    "etiquetas_entrenamiento = one_hot_encode(etiquetas_entrenamiento,10)\n",
    "etiquetas_testeo = one_hot_encode(etiquetas_testeo,10)\n",
    "\n",
    "print(etiquetas_entrenamiento.shape)\n",
    "print(etiquetas_testeo.shape)"
   ]
  },
  {
   "cell_type": "code",
   "execution_count": 16,
   "metadata": {
    "colab": {},
    "colab_type": "code",
    "id": "_uhiOPdukrf2"
   },
   "outputs": [],
   "source": [
    "# Aplanamos las dimensiones de cada uno de nuestros datos:\n",
    "datos_entrenamiento.resize(60000,28*28)\n",
    "datos_testeo.resize(10000,28*28)"
   ]
  },
  {
   "cell_type": "code",
   "execution_count": 21,
   "metadata": {
    "colab": {
     "base_uri": "https://localhost:8080/",
     "height": 50
    },
    "colab_type": "code",
    "id": "OPh48F97lguz",
    "outputId": "ad9932ac-deea-4686-dacd-abe5e74c1443"
   },
   "outputs": [
    {
     "name": "stdout",
     "output_type": "stream",
     "text": [
      "(60000, 784)\n",
      "(10000, 784)\n"
     ]
    }
   ],
   "source": [
    "print(datos_entrenamiento.shape)\n",
    "print(datos_testeo.shape)"
   ]
  },
  {
   "cell_type": "code",
   "execution_count": 34,
   "metadata": {
    "colab": {
     "base_uri": "https://localhost:8080/",
     "height": 1000
    },
    "colab_type": "code",
    "id": "MkqCNIPolgpk",
    "outputId": "a83d6b65-61f5-4f3d-827b-d6578933ef5e"
   },
   "outputs": [
    {
     "name": "stdout",
     "output_type": "stream",
     "text": [
      "Hola, cuántas capas ocultas deseas? 2\n",
      "\n",
      "Recuerda que la ÚLTIMA CAPA OCULTA vendría siendo para nuestro caso la CAPA DE SALIDA\n",
      "Cuántas neuronas deseas para la capa oculta 1?: 512\n",
      "Cuántas neuronas deseas para la capa oculta 2?: 10\n",
      "Ingresa la tasa de aprendizaje. Rango válido: 0 < TA <= 1\n",
      "0.98\n",
      "Cuántas épocas de entrenamiento deseas? 10\n",
      "Cuál es el error mínimo que deseas que logre el modelo? 0.0001\n",
      "Deseas validar tu modelo en cada época? s/ns\n",
      "\n",
      "Cantidad de Lotes: 250\n",
      "\n",
      "Error Promedio en Datos Entrenamiento: [0.38462526] | Error Validación: [0.18160618]\n",
      "Precisión en Datos Entrenamiento: 94.676 | Precisión en Validación: 94.43\n",
      "\n",
      "Error Promedio en Datos Entrenamiento: [0.12840848] | Error Validación: [0.12366518]\n",
      "Precisión en Datos Entrenamiento: 96.896 | Precisión en Validación: 96.28\n",
      "\n",
      "Error Promedio en Datos Entrenamiento: [0.08651719] | Error Validación: [0.10407332]\n",
      "Precisión en Datos Entrenamiento: 97.7 | Precisión en Validación: 96.85000000000001\n",
      "\n",
      "Error Promedio en Datos Entrenamiento: [0.06334836] | Error Validación: [0.09205492]\n",
      "Precisión en Datos Entrenamiento: 98.31 | Precisión en Validación: 97.18\n",
      "\n",
      "Error Promedio en Datos Entrenamiento: [0.04828169] | Error Validación: [0.08393384]\n",
      "Precisión en Datos Entrenamiento: 98.71600000000001 | Precisión en Validación: 97.5\n",
      "\n",
      "Error Promedio en Datos Entrenamiento: [0.03742052] | Error Validación: [0.07898349]\n",
      "Precisión en Datos Entrenamiento: 98.97 | Precisión en Validación: 97.71\n",
      "\n",
      "Error Promedio en Datos Entrenamiento: [0.02919388] | Error Validación: [0.0770975]\n",
      "Precisión en Datos Entrenamiento: 99.17200000000001 | Precisión en Validación: 97.67\n",
      "\n",
      "Error Promedio en Datos Entrenamiento: [0.02293534] | Error Validación: [0.07681228]\n",
      "Precisión en Datos Entrenamiento: 99.30799999999999 | Precisión en Validación: 97.75\n",
      "\n",
      "Error Promedio en Datos Entrenamiento: [0.01818824] | Error Validación: [0.07597116]\n",
      "Precisión en Datos Entrenamiento: 99.424 | Precisión en Validación: 97.78999999999999\n",
      "\n",
      "Error Promedio en Datos Entrenamiento: [0.01460696] | Error Validación: [0.0752071]\n",
      "Precisión en Datos Entrenamiento: 99.53800000000001 | Precisión en Validación: 97.84\n",
      "\n",
      "Tiempo Total: 65.078275 minutos\n",
      "Época: 10\n"
     ]
    }
   ],
   "source": [
    "pesos,bias,Er_DE,Psn_DE,Er_V,Psn_V = algoritmo_de_entrenamiento(datos_entrenamiento,etiquetas_entrenamiento,200)"
   ]
  },
  {
   "cell_type": "markdown",
   "metadata": {},
   "source": [
    "**Gráficamos el desempeño de nuestra Red Neuronal:**"
   ]
  },
  {
   "cell_type": "code",
   "execution_count": 42,
   "metadata": {},
   "outputs": [
    {
     "data": {
      "image/png": "[encoded data removed]",
      "text/plain": [
       "<Figure size 432x288 with 1 Axes>"
      ]
     },
     "metadata": {
      "needs_background": "light"
     },
     "output_type": "display_data"
    }
   ],
   "source": [
    "# Gráficamos los Errores:\n",
    "epocas = range(1,len(Er_DE)+1)\n",
    "\n",
    "plt.plot(epocas, Er_DE, label=\"Error Datos Entrenamiento.\")\n",
    "plt.plot(epocas, Er_V, label=\"Error Datos Validación.\")\n",
    "plt.xticks(epocas)\n",
    "plt.xlabel(\"Época.\")\n",
    "plt.ylabel(\"Error.\")\n",
    "plt.legend()\n",
    "\n",
    "plt.show()"
   ]
  },
  {
   "cell_type": "code",
   "execution_count": 43,
   "metadata": {},
   "outputs": [
    {
     "data": {
      "image/png": "[encoded data removed]",
      "text/plain": [
       "<Figure size 432x288 with 1 Axes>"
      ]
     },
     "metadata": {
      "needs_background": "light"
     },
     "output_type": "display_data"
    }
   ],
   "source": [
    "# Gráficamos los Aciertos:\n",
    "plt.plot(epocas, Psn_DE, label=\"Precisión Datos Entrenamiento.\")\n",
    "plt.plot(epocas, Psn_V, label=\"Precisión Datos Validación.\")\n",
    "plt.xticks(epocas)\n",
    "plt.ylabel(\"Precisión en %.\")\n",
    "plt.xlabel(\"Época.\")\n",
    "plt.legend()\n",
    "\n",
    "plt.show()"
   ]
  },
  {
   "cell_type": "markdown",
   "metadata": {},
   "source": [
    "**Realizamos las PREDICCIÓNES en los datos nunca vistos por el modelo:**"
   ]
  },
  {
   "cell_type": "code",
   "execution_count": 81,
   "metadata": {},
   "outputs": [],
   "source": [
    "predicciones_ = predicciones(etiquetas_testeo,datos_testeo,pesos,bias) # Se realizan las predicciones."
   ]
  },
  {
   "cell_type": "code",
   "execution_count": 82,
   "metadata": {},
   "outputs": [],
   "source": [
    "# Recuperamos las etiquetas testeo nuevamente para verificar las predicciones:\n",
    "(_,_), (_,etiquetas_testeo_verificacion) = mnist.load_data()"
   ]
  },
  {
   "cell_type": "code",
   "execution_count": 83,
   "metadata": {},
   "outputs": [
    {
     "name": "stdout",
     "output_type": "stream",
     "text": [
      "Total de datos acertados: 9788 | Datos no acertados: 212\n",
      "La precisión de nuestra red es del 97.88%\n"
     ]
    }
   ],
   "source": [
    "aciertos = (predicciones_ == etiquetas_testeo_verificacion).sum() # Verificamos cantidad de aciertos.\n",
    "precision = (aciertos/len(datos_testeo))*100 # Calculamos la precisión de nuestra red.\n",
    "\n",
    "print(f\"Total de datos acertados: {aciertos} | Datos no acertados: {abs(aciertos-len(etiquetas_testeo_verificacion))}\")\n",
    "print(f\"La precisión de nuestra red es del {precision}%\")"
   ]
  },
  {
   "cell_type": "markdown",
   "metadata": {},
   "source": [
    "Como podemos observar, la precisión de nuestro modelo es bastante buena. Además, nuestra red no tiene overfitting (esto se puede observar en la gráfica de los errores). Por lo que sólo resta (en caso de que así lo requiera), entrenar sin datos de validación, es decir, con los 60000 datos completos en lugar de 50000 (debido a los datos que se tomaron como parte de la validación)."
   ]
  },
  {
   "cell_type": "code",
   "execution_count": null,
   "metadata": {},
   "outputs": [],
   "source": []
  },
  {
   "cell_type": "markdown",
   "metadata": {},
   "source": [
    "***"
   ]
  },
  {
   "cell_type": "markdown",
   "metadata": {},
   "source": [
    "Para guardar los pesos:"
   ]
  },
  {
   "cell_type": "code",
   "execution_count": 122,
   "metadata": {},
   "outputs": [],
   "source": [
    "import json\n",
    "\n",
    "lista_pesos = [peso.tolist() for peso in pesos]\n",
    "\n",
    "nombre_archivo = \"pesos.json\"\n",
    "with open (nombre_archivo, 'w') as f_objeto:\n",
    "    json.dump(lista_pesos,f_objeto)"
   ]
  },
  {
   "cell_type": "markdown",
   "metadata": {},
   "source": [
    "Para cargar los pesos:"
   ]
  },
  {
   "cell_type": "code",
   "execution_count": 126,
   "metadata": {},
   "outputs": [],
   "source": [
    "nombre_archivo = \"pesos.json\"\n",
    "with open (nombre_archivo, 'r') as f_objeto:\n",
    "    pesos_cargados = json.load(f_objeto)"
   ]
  },
  {
   "cell_type": "code",
   "execution_count": 130,
   "metadata": {},
   "outputs": [],
   "source": [
    "pesos_cargados = [np.asarray(pesos_x_capa) for pesos_x_capa in pesos_cargados]"
   ]
  },
  {
   "cell_type": "code",
   "execution_count": 132,
   "metadata": {},
   "outputs": [],
   "source": [
    "asdfg = predicciones(etiquetas_testeo_verificacion,datos_testeo,pesos_cargados,bias)"
   ]
  },
  {
   "cell_type": "code",
   "execution_count": 133,
   "metadata": {},
   "outputs": [
    {
     "name": "stdout",
     "output_type": "stream",
     "text": [
      "La precisión de nuestra red es del 97.88%\n"
     ]
    }
   ],
   "source": [
    "act = (asdfg == etiquetas_testeo_verificacion).sum() # Verificamos cantidad de aciertos.\n",
    "psn = (act/len(datos_testeo))*100 # Calculamos la precisión de nuestra red.\n",
    "\n",
    "print(f\"La precisión de nuestra red es del {psn}%\")"
   ]
  },
  {
   "cell_type": "code",
   "execution_count": null,
   "metadata": {},
   "outputs": [],
   "source": []
  }
 ],
 "metadata": {
  "accelerator": "TPU",
  "colab": {
   "collapsed_sections": [],
   "name": "Softmax.ipynb",
   "provenance": []
  },
  "kernelspec": {
   "display_name": "Python 3",
   "language": "python",
   "name": "python3"
  },
  "language_info": {
   "codemirror_mode": {
    "name": "ipython",
    "version": 3
   },
   "file_extension": ".py",
   "mimetype": "text/x-python",
   "name": "python",
   "nbconvert_exporter": "python",
   "pygments_lexer": "ipython3",
   "version": "3.8.3"
  }
 },
 "nbformat": 4,
 "nbformat_minor": 4
}
